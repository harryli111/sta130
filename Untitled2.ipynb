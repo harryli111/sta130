{
 "cells": [
  {
   "cell_type": "markdown",
   "id": "6f74068a",
   "metadata": {},
   "source": [
    "Question 1"
   ]
  },
  {
   "cell_type": "code",
   "execution_count": null,
   "id": "1c310905",
   "metadata": {},
   "outputs": [],
   "source": [
    "Key Differences:\n",
    "●\n",
    "Scope: Standard deviation pertains to the entire sample or population. Standard error of the mean applies specifically to the sample mean.\n",
    "Sample Size : Standard deviation is not affected by sample size. By contrast, standard error of mean decreases as the sample size increases.\n",
    "Calculation: Sample standard deviation is calculated using a formula. Standard error of mean is calculated by dividing the sample standard deviation by the square root of the sample size.\n",
    "    "
   ]
  },
  {
   "cell_type": "markdown",
   "id": "b32aac70",
   "metadata": {},
   "source": [
    "Chatbot summary:\n",
    "Here's a recap of the key distinctions between the standard error of the mean and standard deviation, integrating details from the sources and our conversation:\n",
    "\n",
    "*   **Standard Deviation: Characterizing Variability Within Data**\n",
    "\n",
    "    *   The standard deviation, often denoted as 's' for a sample and 'σ' (sigma) for a population, measures the spread or dispersion of individual data points around the mean of the data.\n",
    "    *   A larger standard deviation indicates that the data points are more spread out, while a smaller standard deviation suggests they are clustered closely around the mean.\n",
    "    *   Importantly, the standard deviation doesn't depend on the sample size. It reflects the inherent variability in the data itself, whether it's the entire population or a sample drawn from it.\n",
    "*   **Standard Error of the Mean: Quantifying Uncertainty in the Sample Mean**\n",
    "\n",
    "    *   The standard error of the mean (SEM), denoted as $s_{\\bar x}$, is a measure of how much the sample mean  ($\\bar x$) is likely to deviate from the true population mean (often represented as  'μ').\n",
    "    *   It reflects the uncertainty in using the sample mean as an estimate of the population mean, acknowledging the randomness inherent in sampling.\n",
    "    *   Unlike the standard deviation, the standard error of the mean is influenced by the sample size (n).  As the sample size increases, the standard error of the mean decreases. This is because larger samples tend to yield sample means that are closer to the true population mean.\n",
    "*   **Connecting to Sampling Distributions**\n",
    "\n",
    "    *   A core idea here is the concept of the **sampling distribution of the mean**.  Imagine taking numerous samples from a population and calculating the mean of each sample. These sample means form a distribution, and the standard error of the mean describes the spread or variability of this distribution.\n",
    "    *   In essence, the standard error of the mean is the standard deviation of this sampling distribution of the mean.\n",
    "*   **Bootstrapping's Role** \n",
    "\n",
    "    *   When the true population parameters (like the population standard deviation) are unknown, bootstrapping offers a way to estimate the standard error of the mean.\n",
    "    *   By treating the sample as a stand-in for the population, bootstrapping involves repeatedly resampling (with replacement) from the original sample to generate multiple \"bootstrap samples.\" The size of each bootstrap sample is typically the same as the original sample size.\n",
    "    *   Calculating the mean of each bootstrap sample and analyzing the distribution of these means provides an approximation of the sampling distribution of the mean.  From this approximated distribution, we can then estimate the standard error of the mean.\n",
    "\n",
    "Let me know if you'd like to examine any specific aspects further!\n"
   ]
  },
  {
   "cell_type": "markdown",
   "id": "9667aaad",
   "metadata": {},
   "source": [
    "# question 2"
   ]
  },
  {
   "cell_type": "code",
   "execution_count": null,
   "id": "2a174c70",
   "metadata": {},
   "outputs": [],
   "source": [
    "1  Calculate sample means and sample standard deviation\n",
    "2  Determine the Margin of the error. For a 95% confidence interval, you typically multiply the standard error of the mean by approximately 1.96 \n",
    "(this value comes from the standard normal distribution and corresponds to 95% of the data falling within roughly 1.96 standard deviations of the mean).\n",
    "3  Construct the Interval: The confidence interval is then constructed as:\n",
    "○\n",
    "Lower Bound: $\\bar{x} - (1.96 \\times s_{\\bar{x}})$\n",
    "○\n",
    "Upper Bound: $\\bar{x} + (1.96 \\times s_{\\bar{x}})$\n",
    "    \n",
    "This 95% confidence interval, constructed using the standard error of the mean, is meant to \"cover\" 95% of the bootstrapped sample means in the following sense:\n",
    "●\n",
    "Imagine you were to repeatedly draw numerous bootstrap samples (with replacement) from your original sample and calculate the mean of each bootstrap sample.\n",
    "●\n",
    "If you were to construct a confidence interval using the method above for each of these bootstrap sample means, approximately 95% of those confidence intervals would contain the true population mean."
   ]
  },
  {
   "cell_type": "code",
   "execution_count": null,
   "id": "aaa59a22",
   "metadata": {},
   "outputs": [],
   "source": [
    "Chatbot summary : \n",
    "    Here's a more detailed explanation of how to create a 95% confidence interval using the standard error of the mean, building upon the concepts we've discussed:\n",
    "\n",
    "## Using the Standard Error of the Mean to Construct Confidence Intervals\n",
    "\n",
    "You are correct that the sources point out the standard error of the mean's role in confidence interval construction but don't go into great depth about the procedure itself. This is likely because the sources prioritize a **simulation-based approach** to understanding these statistical concepts, particularly advocating for the use of **bootstrapping** (which we'll revisit later). \n",
    "\n",
    "Let's break down the process of building a confidence interval from the standard error of the mean:\n",
    "\n",
    "1. **Calculating the Sample Mean (\\(\\bar{x}\\)) and Standard Error of the Mean ($s_{\\bar{x}}$)**\n",
    "\n",
    "   - You'll naturally have your calculated sample mean already.\n",
    "   - To calculate the standard error of the mean ($s_{\\bar{x}}$), you typically use the formula:  $s_{\\bar{x}} = \\frac{s}{\\sqrt{n}}$, where 's' represents the sample standard deviation, and 'n' is your sample size.  \n",
    "   - **Important:** This formula assumes that your data points are **independent**. Independence is a crucial assumption in many statistical analyses, and the sources emphasize it repeatedly. \n",
    "\n",
    "2.  **Determining the Margin of Error**\n",
    "\n",
    "   - For a 95% confidence interval, you would multiply the standard error of the mean ($s_{\\bar{x}}$) by approximately 1.96.  \n",
    "   - **Where does 1.96 come from?** This value is derived from the **standard normal distribution** (a bell-shaped distribution). Approximately 95% of the data in a standard normal distribution falls within 1.96 standard deviations of the mean.\n",
    "   - The product of 1.96 and the standard error of the mean ($1.96 \\times s_{\\bar{x}}$) is your **margin of error**.\n",
    "\n",
    "3. **Constructing the Confidence Interval**\n",
    "\n",
    "   - **Lower Bound:**  Subtract the margin of error from the sample mean: $\\bar{x} - (1.96 \\times s_{\\bar{x}})$ \n",
    "   - **Upper Bound:** Add the margin of error to the sample mean: $\\bar{x} + (1.96 \\times s_{\\bar{x}})$\n",
    "\n",
    "**Interpreting the Coverage**\n",
    "\n",
    "This resulting interval is your 95% confidence interval. But what does it mean for this interval to \"cover 95% of the bootstrapped sample means\"?\n",
    "\n",
    "*   **Hypothetical Repeated Sampling:**  Imagine you could repeatedly draw a large number of bootstrap samples from your original sample and calculate the mean of each of these bootstrap samples.\n",
    "*   **Confidence Interval Capture:** If you constructed a confidence interval using the above method for each of those bootstrap sample means, you would find that roughly 95% of those confidence intervals would contain the true population mean (μ). \n",
    "\n",
    "**Key Considerations**\n",
    "\n",
    "*   **Population Standard Deviation:** This method, as described, assumes you know the population standard deviation, which is often not the case in real-world scenarios.\n",
    "*   **Bootstrapping as a Solution:** The sources highlight **bootstrapping** as a powerful technique when you don't know the true population parameters. Bootstrapping allows you to estimate the standard error of the mean (and construct confidence intervals) directly from your sample data, without needing to know the population standard deviation.\n",
    "\n",
    "**Let's illustrate this with a simple example:**\n",
    "\n",
    "Suppose you have a sample of 100 students' exam scores, and you want to estimate the average exam score for all students in the class (the population). You calculate:\n",
    "\n",
    "*   Sample Mean ($\\bar{x}$) = 75\n",
    "*   Sample Standard Deviation (s) = 10\n",
    "\n",
    "**Using the formula, the standard error of the mean would be:** \n",
    "  $s_{\\bar{x}} = \\frac{10}{\\sqrt{100}} = 1$\n",
    "\n",
    "**The margin of error for a 95% confidence interval is:**\n",
    "  $1.96 \\times 1 = 1.96$\n",
    "\n",
    "**Your 95% confidence interval would be:**\n",
    "\n",
    "*   Lower Bound: 75 - 1.96 = 73.04\n",
    "*   Upper Bound: 75 + 1.96 = 76.96\n",
    "\n",
    "You could then say that you are 95% confident that the true average exam score for all students in the class falls between 73.04 and 76.96.\n",
    "\n",
    "Let me know if you'd like to explore specific aspects of bootstrapping, confidence intervals, or any other related concepts in more detail! \n"
   ]
  },
  {
   "cell_type": "markdown",
   "id": "e8613541",
   "metadata": {},
   "source": [
    "#  Question 3"
   ]
  },
  {
   "cell_type": "code",
   "execution_count": null,
   "id": "7a052db5",
   "metadata": {},
   "outputs": [],
   "source": [
    "1.\n",
    "Generate Bootstrapped Samples: Start with your original sample. You'll create many (e.g., 1000 or more) bootstrap samples by randomly sampling with replacement from your original sample. Each bootstrap sample should be the same size as your original sample.\n",
    "2.\n",
    "Calculate Bootstrapped Sample Means: For each bootstrap sample, calculate the sample mean. Let's say you created 1000 bootstrap samples; you'd now have 1000 bootstrapped sample means.\n",
    "3.\n",
    "Find the Percentiles: This step is key to constructing the bootstrapped confidence interval. You'll use the np.quantile() function (from the NumPy library) to find the 2.5th percentile and the 97.5th percentile of your distribution of bootstrapped sample means:\n",
    "lower_bound = np.quantile(bootstrapped_means, 0.025)\n",
    "upper_bound = np.quantile(bootstrapped_means, 0.975) \n",
    "●\n",
    "These percentiles essentially mark off the boundaries that contain the central 95% of your bootstrapped sample means.\n",
    "4.\n",
    "The Bootstrapped Confidence Interval: The interval from the 2.5th percentile (your lower bound) to the 97.5th percentile (your upper bound) is your 95% bootstrapped confidence interval."
   ]
  },
  {
   "cell_type": "markdown",
   "id": "821931f4",
   "metadata": {},
   "source": [
    "#  Question 4"
   ]
  },
  {
   "cell_type": "code",
   "execution_count": 1,
   "id": "4fdabcfd",
   "metadata": {},
   "outputs": [
    {
     "name": "stdout",
     "output_type": "stream",
     "text": [
      "95% Confidence Interval for the Mean: (-5.0, -5.0)\n"
     ]
    }
   ],
   "source": [
    "import numpy as np\n",
    "import pandas as pd\n",
    "\n",
    "def bootstrap_confidence_interval(data, statistic, num_simulations=1000, confidence_level=0.95):\n",
    "  \"\"\"\n",
    "  Calculates a bootstrapped confidence interval for a given statistic.\n",
    "\n",
    "  Args:\n",
    "    data: The original sample data (a 1D array-like object).\n",
    "    statistic: The function to compute the statistic (e.g., np.mean for the mean).\n",
    "    num_simulations: The number of bootstrap samples to generate.\n",
    "    confidence_level: The desired confidence level (between 0 and 1).\n",
    "\n",
    "  Returns:\n",
    "    A tuple (lower_bound, upper_bound) representing the confidence interval.\n",
    "  \"\"\"\n",
    "  n = len(data)  # Original sample size\n",
    "  bootstrapped_stats = []\n",
    "  for _ in range(num_simulations):\n",
    "    bootstrap_sample = np.random.choice(data, size=n, replace=True)\n",
    "    bootstrapped_stat = statistic(bootstrap_sample)\n",
    "    bootstrapped_stats.append(bootstrapped_stat)\n",
    "\n",
    "  # Calculate percentiles for the confidence interval\n",
    "  alpha = (1 - confidence_level) / 2\n",
    "  lower_percentile = alpha\n",
    "  upper_percentile = 1 - alpha\n",
    "  lower_bound = np.quantile(bootstrapped_stats, lower_percentile)\n",
    "  upper_bound = np.quantile(bootstrapped_stats, upper_percentile)\n",
    "  return (lower_bound, upper_bound)\n",
    "\n",
    "# Example usage (replace with your actual data)\n",
    "data = [1-6] \n",
    "mean_confidence_interval = bootstrap_confidence_interval(data, np.mean)\n",
    "print(\"95% Confidence Interval for the Mean:\", mean_confidence_interval)"
   ]
  },
  {
   "cell_type": "markdown",
   "id": "b11fa7cb",
   "metadata": {},
   "source": [
    "# Question 5"
   ]
  },
  {
   "cell_type": "code",
   "execution_count": null,
   "id": "08ba8dcd",
   "metadata": {},
   "outputs": [],
   "source": [
    "Confidence intervals are used to estimate population parameters. They provide a range of values within which the population parameter is \n",
    "likely to fall, along with a measure of confidence, such as 95%, which means that 95% of the time, a confidence interval constructed using \n",
    "this method will contain the true population parameter.\n",
    "\n",
    "We are interested in the population parameter, not the sample statistic. The sample statistic is only useful insofar as it provides information about the population parameter.\n",
    "●\n",
    "Sample statistics vary from sample to sample. If we were to take multiple samples from the same population, we would likely get different sample statistics each time. A confidence interval accounts for this variability by providing a range of values instead of a single point estimate.\n",
    "●\n",
    "The width of the confidence interval is determined by the variability of the sampling distribution. The sampling distribution is the distribution of all possible sample statistics that could be obtained from a population. The standard error of the mean is a measure of this variability. A larger standard error of the mean will result in a wider confidence interval."
   ]
  },
  {
   "cell_type": "code",
   "execution_count": null,
   "id": "be0a16d5",
   "metadata": {},
   "outputs": [],
   "source": [
    "chatbot summary  ## Population Parameters vs. Sample Statistics in Confidence Intervals\n",
    "\n",
    "You are right, it is essential to distinguish between population parameters and sample statistics when working with confidence intervals. This distinction lies at the heart of statistical inference, where we aim to learn about a population based on a smaller sample. \n",
    "\n",
    "Here's a breakdown of these key concepts and why their distinction is crucial for confidence intervals:\n",
    "\n",
    "*   **Population Parameter:** Imagine a characteristic of an entire population, like the average income of all citizens in a country or the proportion of voters supporting a particular candidate. This characteristic, often unknown, is what we call a **population parameter**. It's a fixed value that describes the population as a whole.\n",
    "*   **Sample Statistic:** Since it's often impractical to survey an entire population, we take a smaller, representative sample.  The measurements we obtain from this sample, like the average income of 1000 randomly selected citizens, are used to calculate values called **sample statistics**. These statistics serve as our estimates for the unknown population parameters.\n",
    "*   **Confidence Intervals:** Now, how confident are we that our **sample statistic** accurately reflects the true **population parameter**? This is where **confidence intervals** come in. A confidence interval provides a range of values, calculated from the sample data, within which we are reasonably confident that the true population parameter lies.  The level of confidence, usually set at 95%, indicates the percentage of times a confidence interval constructed using this method would contain the true population parameter if we were to repeat the sampling process many times.\n",
    "\n",
    "**Why the Distinction Matters for Confidence Intervals**\n",
    "\n",
    "1.  **Target of Estimation:** Our primary interest lies in understanding the **population parameter**, not just the sample statistic. The sample statistic is merely a tool, albeit a crucial one, to make inferences about the population.\n",
    "2.  **Sampling Variability:** We need to acknowledge that sample statistics are not constant. They are subject to variation. If we draw multiple samples from the same population, we'll likely get different sample statistics each time. Confidence intervals factor in this sampling variability by providing a range rather than a single point estimate.\n",
    "3.  **Quantifying Uncertainty:** The width of a confidence interval tells us how precise our estimate is. A wider interval indicates more uncertainty about the true population parameter, while a narrower interval suggests a more precise estimate. The variability of the sampling distribution, often measured by the standard error, plays a key role in determining this width. A larger standard error, indicating more variability in the possible sample statistics, will result in a wider confidence interval.\n",
    "\n",
    "In essence, when constructing confidence intervals, we are using a sample statistic, which is variable, to make an educated guess about the fixed, unknown population parameter. The confidence interval provides a measure of the uncertainty associated with this guess, acknowledging the inherent variability in sampling.\n"
   ]
  },
  {
   "cell_type": "markdown",
   "id": "b37ac183",
   "metadata": {},
   "source": [
    "# Question 6"
   ]
  },
  {
   "cell_type": "code",
   "execution_count": null,
   "id": "aa4febbc",
   "metadata": {},
   "outputs": [],
   "source": [
    "1 Start with my samples. And then treat the sample as the population. Resample with the replacement. Calculate the statistic of interest. Construct the bootstraped sampling distribution. Estimate the uncertainty and build confidence intervals. \n",
    "\n",
    "2 to understand and estimate the uncertainty associated with a sample statistic (like the mean, median, or standard deviation) without having to make assumptions about the underlying population distribution. This is particularly valuable when you only have a single sample and want to know how well it represents the true population parameter.\n",
    "\n",
    "3Bootstrapping from Your Sample: Following the standard bootstrapping procedure, you would create a large number of bootstrap samples from your original sample of size 'n', resampling with replacement each time.\n",
    ".\n",
    "Calculate Bootstrap Sample Means: For each of these bootstrap samples, calculate the mean (average). This will give you a distribution of bootstrap sample means.\n",
    "\n",
    "Construct a Confidence Interval: Using the distribution of bootstrap sample means, construct a confidence interval (e.g., a 95% confidence interval) by finding the percentiles that encompass the central 95% of the bootstrapped means.\n",
    "\n",
    "Plausibility Check:\n",
    "○\n",
    "If your hypothesized mean (μguess) falls within the constructed confidence interval, it suggests that your guess is plausible. This means that if you were to repeatedly sample from the population, your hypothesized mean is likely to be among the range of values that the sample mean would take on.\n",
    "○\n",
    "If your hypothesized mean (μguess) falls outside the confidence interval, it suggests that your guess might not be plausible. The data, as represented by your sample and the bootstrapped distribution, do not support your hypothesized value."
   ]
  },
  {
   "cell_type": "markdown",
   "id": "0de29432",
   "metadata": {},
   "source": [
    "#  Question 7"
   ]
  },
  {
   "cell_type": "code",
   "execution_count": null,
   "id": "5fc03be4",
   "metadata": {},
   "outputs": [],
   "source": [
    "The statement from the \"Pre-lecture\" video, \"the confidence interval covers zero, so we cannot reject the hypothesis that the drug is [on average] not doing anything,\" highlights a key concept in hypothesis testing using confidence intervals. Let's break down why this is the case, even when the observed sample mean is not zero.\n",
    "●\n",
    "Confidence Intervals and Uncertainty: A 95% confidence interval doesn't tell us that the true population mean (in this case, the average effect of the drug) is the observed sample mean. Instead, it provides a range of plausible values for the population mean, given the observed data and the inherent uncertainty associated with sampling. The fact that it is a 95% confidence interval tells us that if we were to repeatedly sample from the population and construct confidence intervals in the same way, 95% of those intervals would contain the true population mean.\n",
    "●\n",
    "The Null Hypothesis of \"No Effect\": In many experiments, like the drug example, the null hypothesis represents a scenario where there's no effect or difference. Here, the null hypothesis posits that the drug has no average effect on the population. Statistically, this translates to a population mean of zero (μ = 0).\n",
    "●\n",
    "Overlapping Zero and Failing to Reject: When a confidence interval for the average effect of the drug includes zero, it means that zero is a plausible value for the true population mean. In other words, the data we have are consistent with the possibility that the drug has no average effect. This doesn't necessarily mean the drug has no effect, just that we don't have enough evidence to rule it out. Therefore, we \"fail to reject\" the null hypothesis.\n",
    "What would lead to rejecting the null hypothesis?\n",
    "●\n",
    "Confidence Interval Excludes Zero: If the calculated confidence interval for the average effect of the drug does not include zero, it suggests that zero is not a plausible value for the true population mean. This would provide evidence against the null hypothesis of no effect. The further the confidence interval is from zero, the stronger the evidence against the null hypothesis."
   ]
  },
  {
   "cell_type": "markdown",
   "id": "fad489b2",
   "metadata": {},
   "source": [
    "#  Question 8"
   ]
  },
  {
   "cell_type": "code",
   "execution_count": 12,
   "id": "2f1092c8",
   "metadata": {},
   "outputs": [
    {
     "ename": "FileNotFoundError",
     "evalue": "[Errno 2] No such file or directory: 'patient_data.csv'",
     "output_type": "error",
     "traceback": [
      "\u001b[0;31m---------------------------------------------------------------------------\u001b[0m",
      "\u001b[0;31mFileNotFoundError\u001b[0m                         Traceback (most recent call last)",
      "Cell \u001b[0;32mIn[12], line 9\u001b[0m\n\u001b[1;32m      6\u001b[0m np\u001b[38;5;241m.\u001b[39mrandom\u001b[38;5;241m.\u001b[39mseed(\u001b[38;5;241m123\u001b[39m) \n\u001b[1;32m      8\u001b[0m \u001b[38;5;66;03m# Read data from a CSV file\u001b[39;00m\n\u001b[0;32m----> 9\u001b[0m df \u001b[38;5;241m=\u001b[39m \u001b[43mpd\u001b[49m\u001b[38;5;241;43m.\u001b[39;49m\u001b[43mread_csv\u001b[49m\u001b[43m(\u001b[49m\u001b[38;5;124;43m'\u001b[39;49m\u001b[38;5;124;43mpatient_data.csv\u001b[39;49m\u001b[38;5;124;43m'\u001b[39;49m\u001b[43m)\u001b[49m \n\u001b[1;32m     11\u001b[0m \u001b[38;5;66;03m# Calculate Health Score Difference\u001b[39;00m\n\u001b[1;32m     12\u001b[0m df[\u001b[38;5;124m'\u001b[39m\u001b[38;5;124mHealthScoreDifference\u001b[39m\u001b[38;5;124m'\u001b[39m] \u001b[38;5;241m=\u001b[39m df[\u001b[38;5;124m'\u001b[39m\u001b[38;5;124mFinalHealthScore\u001b[39m\u001b[38;5;124m'\u001b[39m] \u001b[38;5;241m-\u001b[39m df[\u001b[38;5;124m'\u001b[39m\u001b[38;5;124mInitialHealthScore\u001b[39m\u001b[38;5;124m'\u001b[39m]\n",
      "File \u001b[0;32m/opt/conda/lib/python3.11/site-packages/pandas/io/parsers/readers.py:948\u001b[0m, in \u001b[0;36mread_csv\u001b[0;34m(filepath_or_buffer, sep, delimiter, header, names, index_col, usecols, dtype, engine, converters, true_values, false_values, skipinitialspace, skiprows, skipfooter, nrows, na_values, keep_default_na, na_filter, verbose, skip_blank_lines, parse_dates, infer_datetime_format, keep_date_col, date_parser, date_format, dayfirst, cache_dates, iterator, chunksize, compression, thousands, decimal, lineterminator, quotechar, quoting, doublequote, escapechar, comment, encoding, encoding_errors, dialect, on_bad_lines, delim_whitespace, low_memory, memory_map, float_precision, storage_options, dtype_backend)\u001b[0m\n\u001b[1;32m    935\u001b[0m kwds_defaults \u001b[38;5;241m=\u001b[39m _refine_defaults_read(\n\u001b[1;32m    936\u001b[0m     dialect,\n\u001b[1;32m    937\u001b[0m     delimiter,\n\u001b[0;32m   (...)\u001b[0m\n\u001b[1;32m    944\u001b[0m     dtype_backend\u001b[38;5;241m=\u001b[39mdtype_backend,\n\u001b[1;32m    945\u001b[0m )\n\u001b[1;32m    946\u001b[0m kwds\u001b[38;5;241m.\u001b[39mupdate(kwds_defaults)\n\u001b[0;32m--> 948\u001b[0m \u001b[38;5;28;01mreturn\u001b[39;00m \u001b[43m_read\u001b[49m\u001b[43m(\u001b[49m\u001b[43mfilepath_or_buffer\u001b[49m\u001b[43m,\u001b[49m\u001b[43m \u001b[49m\u001b[43mkwds\u001b[49m\u001b[43m)\u001b[49m\n",
      "File \u001b[0;32m/opt/conda/lib/python3.11/site-packages/pandas/io/parsers/readers.py:611\u001b[0m, in \u001b[0;36m_read\u001b[0;34m(filepath_or_buffer, kwds)\u001b[0m\n\u001b[1;32m    608\u001b[0m _validate_names(kwds\u001b[38;5;241m.\u001b[39mget(\u001b[38;5;124m\"\u001b[39m\u001b[38;5;124mnames\u001b[39m\u001b[38;5;124m\"\u001b[39m, \u001b[38;5;28;01mNone\u001b[39;00m))\n\u001b[1;32m    610\u001b[0m \u001b[38;5;66;03m# Create the parser.\u001b[39;00m\n\u001b[0;32m--> 611\u001b[0m parser \u001b[38;5;241m=\u001b[39m \u001b[43mTextFileReader\u001b[49m\u001b[43m(\u001b[49m\u001b[43mfilepath_or_buffer\u001b[49m\u001b[43m,\u001b[49m\u001b[43m \u001b[49m\u001b[38;5;241;43m*\u001b[39;49m\u001b[38;5;241;43m*\u001b[39;49m\u001b[43mkwds\u001b[49m\u001b[43m)\u001b[49m\n\u001b[1;32m    613\u001b[0m \u001b[38;5;28;01mif\u001b[39;00m chunksize \u001b[38;5;129;01mor\u001b[39;00m iterator:\n\u001b[1;32m    614\u001b[0m     \u001b[38;5;28;01mreturn\u001b[39;00m parser\n",
      "File \u001b[0;32m/opt/conda/lib/python3.11/site-packages/pandas/io/parsers/readers.py:1448\u001b[0m, in \u001b[0;36mTextFileReader.__init__\u001b[0;34m(self, f, engine, **kwds)\u001b[0m\n\u001b[1;32m   1445\u001b[0m     \u001b[38;5;28mself\u001b[39m\u001b[38;5;241m.\u001b[39moptions[\u001b[38;5;124m\"\u001b[39m\u001b[38;5;124mhas_index_names\u001b[39m\u001b[38;5;124m\"\u001b[39m] \u001b[38;5;241m=\u001b[39m kwds[\u001b[38;5;124m\"\u001b[39m\u001b[38;5;124mhas_index_names\u001b[39m\u001b[38;5;124m\"\u001b[39m]\n\u001b[1;32m   1447\u001b[0m \u001b[38;5;28mself\u001b[39m\u001b[38;5;241m.\u001b[39mhandles: IOHandles \u001b[38;5;241m|\u001b[39m \u001b[38;5;28;01mNone\u001b[39;00m \u001b[38;5;241m=\u001b[39m \u001b[38;5;28;01mNone\u001b[39;00m\n\u001b[0;32m-> 1448\u001b[0m \u001b[38;5;28mself\u001b[39m\u001b[38;5;241m.\u001b[39m_engine \u001b[38;5;241m=\u001b[39m \u001b[38;5;28;43mself\u001b[39;49m\u001b[38;5;241;43m.\u001b[39;49m\u001b[43m_make_engine\u001b[49m\u001b[43m(\u001b[49m\u001b[43mf\u001b[49m\u001b[43m,\u001b[49m\u001b[43m \u001b[49m\u001b[38;5;28;43mself\u001b[39;49m\u001b[38;5;241;43m.\u001b[39;49m\u001b[43mengine\u001b[49m\u001b[43m)\u001b[49m\n",
      "File \u001b[0;32m/opt/conda/lib/python3.11/site-packages/pandas/io/parsers/readers.py:1705\u001b[0m, in \u001b[0;36mTextFileReader._make_engine\u001b[0;34m(self, f, engine)\u001b[0m\n\u001b[1;32m   1703\u001b[0m     \u001b[38;5;28;01mif\u001b[39;00m \u001b[38;5;124m\"\u001b[39m\u001b[38;5;124mb\u001b[39m\u001b[38;5;124m\"\u001b[39m \u001b[38;5;129;01mnot\u001b[39;00m \u001b[38;5;129;01min\u001b[39;00m mode:\n\u001b[1;32m   1704\u001b[0m         mode \u001b[38;5;241m+\u001b[39m\u001b[38;5;241m=\u001b[39m \u001b[38;5;124m\"\u001b[39m\u001b[38;5;124mb\u001b[39m\u001b[38;5;124m\"\u001b[39m\n\u001b[0;32m-> 1705\u001b[0m \u001b[38;5;28mself\u001b[39m\u001b[38;5;241m.\u001b[39mhandles \u001b[38;5;241m=\u001b[39m \u001b[43mget_handle\u001b[49m\u001b[43m(\u001b[49m\n\u001b[1;32m   1706\u001b[0m \u001b[43m    \u001b[49m\u001b[43mf\u001b[49m\u001b[43m,\u001b[49m\n\u001b[1;32m   1707\u001b[0m \u001b[43m    \u001b[49m\u001b[43mmode\u001b[49m\u001b[43m,\u001b[49m\n\u001b[1;32m   1708\u001b[0m \u001b[43m    \u001b[49m\u001b[43mencoding\u001b[49m\u001b[38;5;241;43m=\u001b[39;49m\u001b[38;5;28;43mself\u001b[39;49m\u001b[38;5;241;43m.\u001b[39;49m\u001b[43moptions\u001b[49m\u001b[38;5;241;43m.\u001b[39;49m\u001b[43mget\u001b[49m\u001b[43m(\u001b[49m\u001b[38;5;124;43m\"\u001b[39;49m\u001b[38;5;124;43mencoding\u001b[39;49m\u001b[38;5;124;43m\"\u001b[39;49m\u001b[43m,\u001b[49m\u001b[43m \u001b[49m\u001b[38;5;28;43;01mNone\u001b[39;49;00m\u001b[43m)\u001b[49m\u001b[43m,\u001b[49m\n\u001b[1;32m   1709\u001b[0m \u001b[43m    \u001b[49m\u001b[43mcompression\u001b[49m\u001b[38;5;241;43m=\u001b[39;49m\u001b[38;5;28;43mself\u001b[39;49m\u001b[38;5;241;43m.\u001b[39;49m\u001b[43moptions\u001b[49m\u001b[38;5;241;43m.\u001b[39;49m\u001b[43mget\u001b[49m\u001b[43m(\u001b[49m\u001b[38;5;124;43m\"\u001b[39;49m\u001b[38;5;124;43mcompression\u001b[39;49m\u001b[38;5;124;43m\"\u001b[39;49m\u001b[43m,\u001b[49m\u001b[43m \u001b[49m\u001b[38;5;28;43;01mNone\u001b[39;49;00m\u001b[43m)\u001b[49m\u001b[43m,\u001b[49m\n\u001b[1;32m   1710\u001b[0m \u001b[43m    \u001b[49m\u001b[43mmemory_map\u001b[49m\u001b[38;5;241;43m=\u001b[39;49m\u001b[38;5;28;43mself\u001b[39;49m\u001b[38;5;241;43m.\u001b[39;49m\u001b[43moptions\u001b[49m\u001b[38;5;241;43m.\u001b[39;49m\u001b[43mget\u001b[49m\u001b[43m(\u001b[49m\u001b[38;5;124;43m\"\u001b[39;49m\u001b[38;5;124;43mmemory_map\u001b[39;49m\u001b[38;5;124;43m\"\u001b[39;49m\u001b[43m,\u001b[49m\u001b[43m \u001b[49m\u001b[38;5;28;43;01mFalse\u001b[39;49;00m\u001b[43m)\u001b[49m\u001b[43m,\u001b[49m\n\u001b[1;32m   1711\u001b[0m \u001b[43m    \u001b[49m\u001b[43mis_text\u001b[49m\u001b[38;5;241;43m=\u001b[39;49m\u001b[43mis_text\u001b[49m\u001b[43m,\u001b[49m\n\u001b[1;32m   1712\u001b[0m \u001b[43m    \u001b[49m\u001b[43merrors\u001b[49m\u001b[38;5;241;43m=\u001b[39;49m\u001b[38;5;28;43mself\u001b[39;49m\u001b[38;5;241;43m.\u001b[39;49m\u001b[43moptions\u001b[49m\u001b[38;5;241;43m.\u001b[39;49m\u001b[43mget\u001b[49m\u001b[43m(\u001b[49m\u001b[38;5;124;43m\"\u001b[39;49m\u001b[38;5;124;43mencoding_errors\u001b[39;49m\u001b[38;5;124;43m\"\u001b[39;49m\u001b[43m,\u001b[49m\u001b[43m \u001b[49m\u001b[38;5;124;43m\"\u001b[39;49m\u001b[38;5;124;43mstrict\u001b[39;49m\u001b[38;5;124;43m\"\u001b[39;49m\u001b[43m)\u001b[49m\u001b[43m,\u001b[49m\n\u001b[1;32m   1713\u001b[0m \u001b[43m    \u001b[49m\u001b[43mstorage_options\u001b[49m\u001b[38;5;241;43m=\u001b[39;49m\u001b[38;5;28;43mself\u001b[39;49m\u001b[38;5;241;43m.\u001b[39;49m\u001b[43moptions\u001b[49m\u001b[38;5;241;43m.\u001b[39;49m\u001b[43mget\u001b[49m\u001b[43m(\u001b[49m\u001b[38;5;124;43m\"\u001b[39;49m\u001b[38;5;124;43mstorage_options\u001b[39;49m\u001b[38;5;124;43m\"\u001b[39;49m\u001b[43m,\u001b[49m\u001b[43m \u001b[49m\u001b[38;5;28;43;01mNone\u001b[39;49;00m\u001b[43m)\u001b[49m\u001b[43m,\u001b[49m\n\u001b[1;32m   1714\u001b[0m \u001b[43m\u001b[49m\u001b[43m)\u001b[49m\n\u001b[1;32m   1715\u001b[0m \u001b[38;5;28;01massert\u001b[39;00m \u001b[38;5;28mself\u001b[39m\u001b[38;5;241m.\u001b[39mhandles \u001b[38;5;129;01mis\u001b[39;00m \u001b[38;5;129;01mnot\u001b[39;00m \u001b[38;5;28;01mNone\u001b[39;00m\n\u001b[1;32m   1716\u001b[0m f \u001b[38;5;241m=\u001b[39m \u001b[38;5;28mself\u001b[39m\u001b[38;5;241m.\u001b[39mhandles\u001b[38;5;241m.\u001b[39mhandle\n",
      "File \u001b[0;32m/opt/conda/lib/python3.11/site-packages/pandas/io/common.py:863\u001b[0m, in \u001b[0;36mget_handle\u001b[0;34m(path_or_buf, mode, encoding, compression, memory_map, is_text, errors, storage_options)\u001b[0m\n\u001b[1;32m    858\u001b[0m \u001b[38;5;28;01melif\u001b[39;00m \u001b[38;5;28misinstance\u001b[39m(handle, \u001b[38;5;28mstr\u001b[39m):\n\u001b[1;32m    859\u001b[0m     \u001b[38;5;66;03m# Check whether the filename is to be opened in binary mode.\u001b[39;00m\n\u001b[1;32m    860\u001b[0m     \u001b[38;5;66;03m# Binary mode does not support 'encoding' and 'newline'.\u001b[39;00m\n\u001b[1;32m    861\u001b[0m     \u001b[38;5;28;01mif\u001b[39;00m ioargs\u001b[38;5;241m.\u001b[39mencoding \u001b[38;5;129;01mand\u001b[39;00m \u001b[38;5;124m\"\u001b[39m\u001b[38;5;124mb\u001b[39m\u001b[38;5;124m\"\u001b[39m \u001b[38;5;129;01mnot\u001b[39;00m \u001b[38;5;129;01min\u001b[39;00m ioargs\u001b[38;5;241m.\u001b[39mmode:\n\u001b[1;32m    862\u001b[0m         \u001b[38;5;66;03m# Encoding\u001b[39;00m\n\u001b[0;32m--> 863\u001b[0m         handle \u001b[38;5;241m=\u001b[39m \u001b[38;5;28;43mopen\u001b[39;49m\u001b[43m(\u001b[49m\n\u001b[1;32m    864\u001b[0m \u001b[43m            \u001b[49m\u001b[43mhandle\u001b[49m\u001b[43m,\u001b[49m\n\u001b[1;32m    865\u001b[0m \u001b[43m            \u001b[49m\u001b[43mioargs\u001b[49m\u001b[38;5;241;43m.\u001b[39;49m\u001b[43mmode\u001b[49m\u001b[43m,\u001b[49m\n\u001b[1;32m    866\u001b[0m \u001b[43m            \u001b[49m\u001b[43mencoding\u001b[49m\u001b[38;5;241;43m=\u001b[39;49m\u001b[43mioargs\u001b[49m\u001b[38;5;241;43m.\u001b[39;49m\u001b[43mencoding\u001b[49m\u001b[43m,\u001b[49m\n\u001b[1;32m    867\u001b[0m \u001b[43m            \u001b[49m\u001b[43merrors\u001b[49m\u001b[38;5;241;43m=\u001b[39;49m\u001b[43merrors\u001b[49m\u001b[43m,\u001b[49m\n\u001b[1;32m    868\u001b[0m \u001b[43m            \u001b[49m\u001b[43mnewline\u001b[49m\u001b[38;5;241;43m=\u001b[39;49m\u001b[38;5;124;43m\"\u001b[39;49m\u001b[38;5;124;43m\"\u001b[39;49m\u001b[43m,\u001b[49m\n\u001b[1;32m    869\u001b[0m \u001b[43m        \u001b[49m\u001b[43m)\u001b[49m\n\u001b[1;32m    870\u001b[0m     \u001b[38;5;28;01melse\u001b[39;00m:\n\u001b[1;32m    871\u001b[0m         \u001b[38;5;66;03m# Binary mode\u001b[39;00m\n\u001b[1;32m    872\u001b[0m         handle \u001b[38;5;241m=\u001b[39m \u001b[38;5;28mopen\u001b[39m(handle, ioargs\u001b[38;5;241m.\u001b[39mmode)\n",
      "\u001b[0;31mFileNotFoundError\u001b[0m: [Errno 2] No such file or directory: 'patient_data.csv'"
     ]
    }
   ],
   "source": [
    "import matplotlib.pyplot as plt\n",
    "import pandas as pd\n",
    "import numpy as np\n",
    "\n",
    "# Set a seed for reproducibility\n",
    "np.random.seed(123) \n",
    "\n",
    "# Read data from a CSV file\n",
    "df = pd.read_csv('patient_data.csv') \n",
    "\n",
    "# Calculate Health Score Difference\n",
    "df['HealthScoreDifference'] = df['FinalHealthScore'] - df['InitialHealthScore']\n",
    "\n",
    "# Create the bar chart\n",
    "plt.figure(figsize=(10, 6)) \n",
    "plt.bar(df['PatientID'], df['HealthScoreDifference'], color=['green' if diff >= 0 else 'red' for diff in df['HealthScoreDifference']])\n",
    "plt.xlabel('Patient ID')\n",
    "plt.ylabel('Health Score Change')\n",
    "plt.title('Change in Health Score (Final - Initial) for Each Patient')\n",
    "\n",
    "# Adding value labels to the bars\n",
    "for i, v in enumerate(df['HealthScoreDifference']):\n",
    "    plt.text(i + 0.8, v + 0.2, str(v), color='black', fontweight='bold') \n",
    "\n",
    "plt.show()"
   ]
  },
  {
   "cell_type": "markdown",
   "id": "a2288946",
   "metadata": {},
   "source": [
    "# Question 9"
   ]
  },
  {
   "cell_type": "code",
   "execution_count": null,
   "id": "b490ad21",
   "metadata": {},
   "outputs": [],
   "source": [
    "Yes"
   ]
  }
 ],
 "metadata": {
  "kernelspec": {
   "display_name": "Python 3 (ipykernel)",
   "language": "python",
   "name": "python3"
  },
  "language_info": {
   "codemirror_mode": {
    "name": "ipython",
    "version": 3
   },
   "file_extension": ".py",
   "mimetype": "text/x-python",
   "name": "python",
   "nbconvert_exporter": "python",
   "pygments_lexer": "ipython3",
   "version": "3.11.6"
  }
 },
 "nbformat": 4,
 "nbformat_minor": 5
}
